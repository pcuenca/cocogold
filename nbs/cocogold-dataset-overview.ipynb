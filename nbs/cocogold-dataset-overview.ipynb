{
 "cells": [
  {
   "cell_type": "code",
   "execution_count": 1,
   "id": "17e6ec88-259e-4600-a79f-a5bc47c5223c",
   "metadata": {},
   "outputs": [],
   "source": [
    "from cocogold.dataset import CocoGoldIterableDataset"
   ]
  },
  {
   "cell_type": "code",
   "execution_count": 2,
   "id": "e704a476-946b-462e-b801-7122729d70a5",
   "metadata": {},
   "outputs": [],
   "source": [
    "base_data_dir = \"/data/datasets/coco/2017\""
   ]
  },
  {
   "cell_type": "code",
   "execution_count": 3,
   "id": "dfe59539-50a5-41e2-bc17-e5d39cd22709",
   "metadata": {},
   "outputs": [
    {
     "name": "stdout",
     "output_type": "stream",
     "text": [
      "loading annotations into memory...\n",
      "Done (t=13.18s)\n",
      "creating index...\n",
      "index created!\n",
      "Filtering images with no annotations\n",
      "Filtering images whose height or width < 300\n"
     ]
    }
   ],
   "source": [
    "train_dataset = CocoGoldIterableDataset(\n",
    "    base_data_dir,\n",
    "    split=\"train\",\n",
    "    return_type=\"pt\",\n",
    ")"
   ]
  },
  {
   "cell_type": "markdown",
   "id": "ff0179c6-e881-479c-b997-3144ee946231",
   "metadata": {},
   "source": [
    "I think the dataset does not work well with parallel dataloaders.\n",
    "**TODO**: fix!"
   ]
  },
  {
   "cell_type": "code",
   "execution_count": 4,
   "id": "f4810ff6-ab75-4018-9fe1-4647383627ad",
   "metadata": {},
   "outputs": [],
   "source": [
    "from collections import defaultdict\n",
    "from tqdm import tqdm"
   ]
  },
  {
   "cell_type": "code",
   "execution_count": null,
   "id": "3437f701-ff3e-4dd0-89aa-565a75547385",
   "metadata": {},
   "outputs": [
    {
     "name": "stderr",
     "output_type": "stream",
     "text": [
      "  4%|██▎                                                     | 4749/115509 [05:03<1:48:55, 16.95it/s]"
     ]
    },
    {
     "name": "stdout",
     "output_type": "stream",
     "text": [
      "Exception (will be ignored) on 4746: Could not select annotation\n"
     ]
    },
    {
     "name": "stderr",
     "output_type": "stream",
     "text": [
      "  7%|███▋                                                    | 7613/115509 [08:09<1:59:50, 15.00it/s]"
     ]
    },
    {
     "name": "stdout",
     "output_type": "stream",
     "text": [
      "Exception (will be ignored) on 7611: Could not select annotation\n"
     ]
    },
    {
     "name": "stderr",
     "output_type": "stream",
     "text": [
      " 16%|█████████                                              | 18932/115509 [20:10<6:56:47,  3.86it/s]"
     ]
    }
   ],
   "source": [
    "all_labels = defaultdict(int)\n",
    "for x in tqdm(train_dataset):\n",
    "    for label in x[\"class\"]:\n",
    "        all_labels[label] += 1"
   ]
  },
  {
   "cell_type": "code",
   "execution_count": null,
   "id": "045f9df7-573e-4662-a910-3f0f88dc9b3a",
   "metadata": {},
   "outputs": [],
   "source": [
    "import matplotlib.pyplot as plt"
   ]
  },
  {
   "cell_type": "code",
   "execution_count": null,
   "id": "f24af83e-3bab-4e45-9529-6fe7336032bd",
   "metadata": {},
   "outputs": [],
   "source": [
    "plt.figure(figsize=(20, 4))\n",
    "plt.xticks(rotation=90)\n",
    "plt.plot(all_labels.keys(), all_labels.values())"
   ]
  },
  {
   "cell_type": "code",
   "execution_count": null,
   "id": "f2fbf3b5-623a-4e5c-a16d-f5329665e6fe",
   "metadata": {},
   "outputs": [],
   "source": [
    "sorted_labels = {k: v for k, v in sorted(all_labels.items(), key=lambda item: item[1])}"
   ]
  },
  {
   "cell_type": "code",
   "execution_count": null,
   "id": "e4df3e3a-9a38-4311-89a7-043bd6b5a8a9",
   "metadata": {},
   "outputs": [],
   "source": [
    "plt.figure(figsize=(10, 16))\n",
    "bars = plt.barh(sorted_labels.keys(), sorted_labels.values());\n",
    "plt.bar_label(bars, padding=6);"
   ]
  },
  {
   "cell_type": "code",
   "execution_count": null,
   "id": "58c8531a-1165-47bd-844a-ab94d797909d",
   "metadata": {},
   "outputs": [],
   "source": []
  }
 ],
 "metadata": {
  "kernelspec": {
   "display_name": "Python 3 (ipykernel)",
   "language": "python",
   "name": "python3"
  },
  "language_info": {
   "codemirror_mode": {
    "name": "ipython",
    "version": 3
   },
   "file_extension": ".py",
   "mimetype": "text/x-python",
   "name": "python",
   "nbconvert_exporter": "python",
   "pygments_lexer": "ipython3",
   "version": "3.10.15"
  }
 },
 "nbformat": 4,
 "nbformat_minor": 5
}
